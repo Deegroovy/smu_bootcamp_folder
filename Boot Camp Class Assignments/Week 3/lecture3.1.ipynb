{
 "cells": [
  {
   "cell_type": "code",
   "execution_count": null,
   "id": "cbdbc38d",
   "metadata": {},
   "outputs": [],
   "source": [
    "# single commenting"
   ]
  },
  {
   "cell_type": "code",
   "execution_count": null,
   "id": "ce1bcc73",
   "metadata": {},
   "outputs": [],
   "source": [
    "\"\"\"\n",
    "\n",
    "multi\n",
    "line \n",
    "commenting\n",
    "\n",
    "\n",
    "\"\"\""
   ]
  },
  {
   "cell_type": "code",
   "execution_count": 1,
   "id": "b2b436c4",
   "metadata": {},
   "outputs": [
    {
     "data": {
      "text/plain": [
       "'\\n\\nctrl + a   === create a cell above\\nctrl + b   === create a cell below\\ndd         === delete the cell (be careful)\\n\\n\\nto run the cell:\\n    ctrl + enter     === run the cell and stay in the cell\\n    alt + enter      === run the cell and go to the next line\\n    \\n\\n'"
      ]
     },
     "execution_count": 1,
     "metadata": {},
     "output_type": "execute_result"
    }
   ],
   "source": [
    "\"\"\"\n",
    "\n",
    "ctrl + a   === create a cell above\n",
    "ctrl + b   === create a cell below\n",
    "dd         === delete the cell (be careful)\n",
    "\n",
    "\n",
    "to run the cell:\n",
    "    ctrl + enter     === run the cell and stay in the cell\n",
    "    alt + enter      === run the cell and go to the next cell\n",
    "    shift + enter    === run the cell and go to the next cell\n",
    "    \n",
    "\n",
    "\"\"\""
   ]
  },
  {
   "cell_type": "markdown",
   "id": "8f4f54a3",
   "metadata": {},
   "source": [
    "# how to print"
   ]
  },
  {
   "cell_type": "markdown",
   "id": "a87d48cb",
   "metadata": {},
   "source": [
    "# h1\n",
    "## h2"
   ]
  },
  {
   "cell_type": "code",
   "execution_count": 2,
   "id": "121c666c",
   "metadata": {},
   "outputs": [],
   "source": [
    "planet = \"earth\"\n",
    "diameter = 12742"
   ]
  },
  {
   "cell_type": "code",
   "execution_count": 3,
   "id": "7b1139e2",
   "metadata": {},
   "outputs": [
    {
     "data": {
      "text/plain": [
       "12742"
      ]
     },
     "execution_count": 3,
     "metadata": {},
     "output_type": "execute_result"
    }
   ],
   "source": [
    "diameter"
   ]
  },
  {
   "cell_type": "code",
   "execution_count": 4,
   "id": "e1ee02f6",
   "metadata": {},
   "outputs": [
    {
     "name": "stdout",
     "output_type": "stream",
     "text": [
      "12742\n"
     ]
    }
   ],
   "source": [
    "print(diameter)"
   ]
  },
  {
   "cell_type": "code",
   "execution_count": 5,
   "id": "a3bc3d77",
   "metadata": {},
   "outputs": [
    {
     "data": {
      "text/plain": [
       "int"
      ]
     },
     "execution_count": 5,
     "metadata": {},
     "output_type": "execute_result"
    }
   ],
   "source": [
    "type(diameter)"
   ]
  },
  {
   "cell_type": "code",
   "execution_count": 6,
   "id": "0d8da3ec",
   "metadata": {},
   "outputs": [
    {
     "data": {
      "text/plain": [
       "str"
      ]
     },
     "execution_count": 6,
     "metadata": {},
     "output_type": "execute_result"
    }
   ],
   "source": [
    "type(planet)"
   ]
  },
  {
   "cell_type": "code",
   "execution_count": 7,
   "id": "c67c2811",
   "metadata": {},
   "outputs": [
    {
     "data": {
      "text/plain": [
       "'earth'"
      ]
     },
     "execution_count": 7,
     "metadata": {},
     "output_type": "execute_result"
    }
   ],
   "source": [
    "planet"
   ]
  },
  {
   "cell_type": "code",
   "execution_count": 8,
   "id": "00cf94ef",
   "metadata": {},
   "outputs": [
    {
     "name": "stdout",
     "output_type": "stream",
     "text": [
      "the diameter of  earth is 12742\n"
     ]
    }
   ],
   "source": [
    "print(\"the diameter of  {variable1} is {variable2}\".format(variable1 = planet, variable2 = diameter))"
   ]
  },
  {
   "cell_type": "code",
   "execution_count": 9,
   "id": "026e9340",
   "metadata": {},
   "outputs": [
    {
     "name": "stdout",
     "output_type": "stream",
     "text": [
      "the diameter of earth is 12742\n"
     ]
    }
   ],
   "source": [
    "print(\"the diameter of \"+planet+\" is \"+str(diameter))"
   ]
  },
  {
   "cell_type": "code",
   "execution_count": 10,
   "id": "4e9f1c0a",
   "metadata": {},
   "outputs": [
    {
     "name": "stdout",
     "output_type": "stream",
     "text": [
      "the diameter of earth is 12742\n"
     ]
    }
   ],
   "source": [
    "print(f\"the diameter of {planet} is {diameter}\")   # f string"
   ]
  },
  {
   "cell_type": "markdown",
   "id": "ced087ca",
   "metadata": {},
   "source": [
    "# data types"
   ]
  },
  {
   "cell_type": "code",
   "execution_count": null,
   "id": "8aa8302e",
   "metadata": {},
   "outputs": [],
   "source": [
    "\"\"\"\n",
    "\n",
    "numerical : int, float\n",
    "boolean : bool                 >>> True False\n",
    "set : set                      >>> set()   {there are only values in this}    sets cannot have duplications\n",
    "string/text : str              >>> ''  \"\"    str(some info here)\n",
    "tuple : tuple                  >>> ()     tuple()                                         cannot be mutated\n",
    "list : list                    >>> []     list()                                          can be mutated, can contain mix data type\n",
    "dictionary : dict              >>> {\"key\":\"value\"}     dict()                             aka. key value pair or in javascript, it is called object or json\n",
    "\n",
    "\n",
    "\"\"\""
   ]
  },
  {
   "cell_type": "markdown",
   "id": "d1ee6935",
   "metadata": {},
   "source": [
    "### numericals"
   ]
  },
  {
   "cell_type": "code",
   "execution_count": 11,
   "id": "4ae57dd5",
   "metadata": {},
   "outputs": [],
   "source": [
    "a = 5"
   ]
  },
  {
   "cell_type": "code",
   "execution_count": 12,
   "id": "9ae85f52",
   "metadata": {},
   "outputs": [
    {
     "data": {
      "text/plain": [
       "int"
      ]
     },
     "execution_count": 12,
     "metadata": {},
     "output_type": "execute_result"
    }
   ],
   "source": [
    "type(a)"
   ]
  },
  {
   "cell_type": "code",
   "execution_count": 13,
   "id": "c1d77636",
   "metadata": {},
   "outputs": [],
   "source": [
    "b = 5.8"
   ]
  },
  {
   "cell_type": "code",
   "execution_count": 14,
   "id": "8b910942",
   "metadata": {},
   "outputs": [
    {
     "data": {
      "text/plain": [
       "float"
      ]
     },
     "execution_count": 14,
     "metadata": {},
     "output_type": "execute_result"
    }
   ],
   "source": [
    "type(b)"
   ]
  },
  {
   "cell_type": "code",
   "execution_count": 15,
   "id": "5434821b",
   "metadata": {},
   "outputs": [
    {
     "data": {
      "text/plain": [
       "5"
      ]
     },
     "execution_count": 15,
     "metadata": {},
     "output_type": "execute_result"
    }
   ],
   "source": [
    "int(b)"
   ]
  },
  {
   "cell_type": "code",
   "execution_count": 16,
   "id": "e6ab4217",
   "metadata": {},
   "outputs": [
    {
     "data": {
      "text/plain": [
       "5.0"
      ]
     },
     "execution_count": 16,
     "metadata": {},
     "output_type": "execute_result"
    }
   ],
   "source": [
    "float(a)"
   ]
  },
  {
   "cell_type": "markdown",
   "id": "c00c00fe",
   "metadata": {},
   "source": [
    "### boolean"
   ]
  },
  {
   "cell_type": "code",
   "execution_count": 23,
   "id": "25661f56",
   "metadata": {},
   "outputs": [],
   "source": [
    "a = False  # False = 0\n",
    "b = True   # True = 1"
   ]
  },
  {
   "cell_type": "code",
   "execution_count": 24,
   "id": "f607c2be",
   "metadata": {},
   "outputs": [
    {
     "data": {
      "text/plain": [
       "bool"
      ]
     },
     "execution_count": 24,
     "metadata": {},
     "output_type": "execute_result"
    }
   ],
   "source": [
    "type(a)"
   ]
  },
  {
   "cell_type": "code",
   "execution_count": 27,
   "id": "7a75317a",
   "metadata": {},
   "outputs": [
    {
     "data": {
      "text/plain": [
       "False"
      ]
     },
     "execution_count": 27,
     "metadata": {},
     "output_type": "execute_result"
    }
   ],
   "source": [
    "a"
   ]
  },
  {
   "cell_type": "code",
   "execution_count": 28,
   "id": "940937f9",
   "metadata": {},
   "outputs": [
    {
     "data": {
      "text/plain": [
       "True"
      ]
     },
     "execution_count": 28,
     "metadata": {},
     "output_type": "execute_result"
    }
   ],
   "source": [
    "b"
   ]
  },
  {
   "cell_type": "markdown",
   "id": "c05450f6",
   "metadata": {},
   "source": [
    "### sets"
   ]
  },
  {
   "cell_type": "code",
   "execution_count": 25,
   "id": "187df412",
   "metadata": {},
   "outputs": [],
   "source": [
    "my_set = {1,2,3,3,4,4,1,\"a\",\"b\",\"a\",\"b\",7, a, b}"
   ]
  },
  {
   "cell_type": "code",
   "execution_count": 26,
   "id": "42ec9e93",
   "metadata": {},
   "outputs": [
    {
     "data": {
      "text/plain": [
       "{1, 2, 3, 4, 7, False, 'a', 'b'}"
      ]
     },
     "execution_count": 26,
     "metadata": {},
     "output_type": "execute_result"
    }
   ],
   "source": [
    "my_set # why it is not giving me the variable b that is holding True boolean value"
   ]
  },
  {
   "cell_type": "code",
   "execution_count": 29,
   "id": "08ae474f",
   "metadata": {},
   "outputs": [
    {
     "data": {
      "text/plain": [
       "set"
      ]
     },
     "execution_count": 29,
     "metadata": {},
     "output_type": "execute_result"
    }
   ],
   "source": [
    "type(my_set)"
   ]
  },
  {
   "cell_type": "code",
   "execution_count": 30,
   "id": "23c06891",
   "metadata": {},
   "outputs": [
    {
     "data": {
      "text/plain": [
       "140719411008296"
      ]
     },
     "execution_count": 30,
     "metadata": {},
     "output_type": "execute_result"
    }
   ],
   "source": [
    "id(hash(b))"
   ]
  },
  {
   "cell_type": "code",
   "execution_count": 31,
   "id": "ab9b5c8e",
   "metadata": {},
   "outputs": [
    {
     "data": {
      "text/plain": [
       "140719411008296"
      ]
     },
     "execution_count": 31,
     "metadata": {},
     "output_type": "execute_result"
    }
   ],
   "source": [
    "id(hash(1))"
   ]
  },
  {
   "cell_type": "code",
   "execution_count": 32,
   "id": "704bca17",
   "metadata": {},
   "outputs": [],
   "source": [
    "my_set.add(\"dog\")"
   ]
  },
  {
   "cell_type": "code",
   "execution_count": 33,
   "id": "681e4f30",
   "metadata": {},
   "outputs": [
    {
     "data": {
      "text/plain": [
       "{1, 2, 3, 4, 7, False, 'a', 'b', 'dog'}"
      ]
     },
     "execution_count": 33,
     "metadata": {},
     "output_type": "execute_result"
    }
   ],
   "source": [
    "my_set"
   ]
  },
  {
   "cell_type": "code",
   "execution_count": 34,
   "id": "6ac4e2b4",
   "metadata": {},
   "outputs": [
    {
     "data": {
      "text/plain": [
       "False"
      ]
     },
     "execution_count": 34,
     "metadata": {},
     "output_type": "execute_result"
    }
   ],
   "source": [
    "my_set.pop()"
   ]
  },
  {
   "cell_type": "code",
   "execution_count": 35,
   "id": "03428345",
   "metadata": {},
   "outputs": [
    {
     "data": {
      "text/plain": [
       "{1, 2, 3, 4, 7, 'a', 'b', 'dog'}"
      ]
     },
     "execution_count": 35,
     "metadata": {},
     "output_type": "execute_result"
    }
   ],
   "source": [
    "my_set"
   ]
  },
  {
   "cell_type": "code",
   "execution_count": 36,
   "id": "4bb8f175",
   "metadata": {},
   "outputs": [],
   "source": [
    "my_set.remove(\"dog\")"
   ]
  },
  {
   "cell_type": "code",
   "execution_count": 37,
   "id": "20d12c21",
   "metadata": {},
   "outputs": [
    {
     "data": {
      "text/plain": [
       "{1, 2, 3, 4, 7, 'a', 'b'}"
      ]
     },
     "execution_count": 37,
     "metadata": {},
     "output_type": "execute_result"
    }
   ],
   "source": [
    "my_set"
   ]
  },
  {
   "cell_type": "markdown",
   "id": "cccf1da7",
   "metadata": {},
   "source": [
    "### tuple"
   ]
  },
  {
   "cell_type": "code",
   "execution_count": 41,
   "id": "dd461539",
   "metadata": {},
   "outputs": [],
   "source": [
    "my_tuple = (1,2,3,3,4,4,1,\"a\",\"b\",\"a\",\"b\",7, a, b)"
   ]
  },
  {
   "cell_type": "code",
   "execution_count": 42,
   "id": "4c9afc1a",
   "metadata": {},
   "outputs": [
    {
     "data": {
      "text/plain": [
       "(1, 2, 3, 3, 4, 4, 1, 'a', 'b', 'a', 'b', 7, False, True)"
      ]
     },
     "execution_count": 42,
     "metadata": {},
     "output_type": "execute_result"
    }
   ],
   "source": [
    "my_tuple"
   ]
  },
  {
   "cell_type": "code",
   "execution_count": 43,
   "id": "9b688e32",
   "metadata": {},
   "outputs": [
    {
     "data": {
      "text/plain": [
       "tuple"
      ]
     },
     "execution_count": 43,
     "metadata": {},
     "output_type": "execute_result"
    }
   ],
   "source": [
    "type(my_tuple)"
   ]
  },
  {
   "cell_type": "code",
   "execution_count": 44,
   "id": "c81d7760",
   "metadata": {},
   "outputs": [
    {
     "data": {
      "text/plain": [
       "3"
      ]
     },
     "execution_count": 44,
     "metadata": {},
     "output_type": "execute_result"
    }
   ],
   "source": [
    "my_tuple.count(1) # value 1 appears 3 times"
   ]
  },
  {
   "cell_type": "code",
   "execution_count": 45,
   "id": "a1594bf6",
   "metadata": {},
   "outputs": [
    {
     "data": {
      "text/plain": [
       "7"
      ]
     },
     "execution_count": 45,
     "metadata": {},
     "output_type": "execute_result"
    }
   ],
   "source": [
    "my_tuple.index(\"a\") # index of the first a is in index location 7"
   ]
  },
  {
   "cell_type": "code",
   "execution_count": 46,
   "id": "10f1e609",
   "metadata": {},
   "outputs": [],
   "source": [
    "my_tuple2 = my_tuple + (\"z\", 9)"
   ]
  },
  {
   "cell_type": "code",
   "execution_count": 47,
   "id": "12a36bc9",
   "metadata": {},
   "outputs": [
    {
     "data": {
      "text/plain": [
       "(1, 2, 3, 3, 4, 4, 1, 'a', 'b', 'a', 'b', 7, False, True, 'z', 9)"
      ]
     },
     "execution_count": 47,
     "metadata": {},
     "output_type": "execute_result"
    }
   ],
   "source": [
    "my_tuple2"
   ]
  },
  {
   "cell_type": "code",
   "execution_count": null,
   "id": "afd4bfad",
   "metadata": {},
   "outputs": [],
   "source": []
  }
 ],
 "metadata": {
  "kernelspec": {
   "display_name": "Python 3 (ipykernel)",
   "language": "python",
   "name": "python3"
  },
  "language_info": {
   "codemirror_mode": {
    "name": "ipython",
    "version": 3
   },
   "file_extension": ".py",
   "mimetype": "text/x-python",
   "name": "python",
   "nbconvert_exporter": "python",
   "pygments_lexer": "ipython3",
   "version": "3.11.5"
  }
 },
 "nbformat": 4,
 "nbformat_minor": 5
}
